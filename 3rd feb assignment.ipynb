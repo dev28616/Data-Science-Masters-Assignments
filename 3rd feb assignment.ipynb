{
 "cells": [
  {
   "cell_type": "raw",
   "id": "1827191b-1bae-4ff0-ae1a-e1d7b0035903",
   "metadata": {},
   "source": [
    "1. \"def\" keyword is used to create function  "
   ]
  },
  {
   "cell_type": "code",
   "execution_count": 1,
   "id": "4c5d3052-d72e-4cb6-979c-61c79652a2d6",
   "metadata": {
    "tags": []
   },
   "outputs": [
    {
     "name": "stdout",
     "output_type": "stream",
     "text": [
      "[1, 3, 5, 7, 9, 11, 13, 15, 17, 19, 21, 23, 25]\n"
     ]
    }
   ],
   "source": [
    "def odd_list():\n",
    "    \n",
    "    \"\"\"This function is used to create a list of odd numbers in the range of 1 to 25\"\"\"\n",
    "    \n",
    "    result = []\n",
    "    for i in range(1,26,2):\n",
    "        result.append(i)\n",
    "        \n",
    "    print(result)  \n",
    "    \n",
    "odd_list()\n",
    "\n"
   ]
  },
  {
   "cell_type": "raw",
   "id": "abde037b-da01-40c5-b9fa-8821ecb6bde7",
   "metadata": {},
   "source": [
    "2. *args allows user to pass n numbers of arguments to a Python function.\n",
    "   **kwargs allows user to pass n number of arguments as a dictionary (key, value pair)."
   ]
  },
  {
   "cell_type": "code",
   "execution_count": 2,
   "id": "87333f99-7605-4a1f-ac90-7652dfb71c0a",
   "metadata": {
    "tags": []
   },
   "outputs": [
    {
     "data": {
      "text/plain": [
       "(1, 2, 3, 33.25, (89+8j), [8, 6, 5], 'Dev')"
      ]
     },
     "execution_count": 2,
     "metadata": {},
     "output_type": "execute_result"
    }
   ],
   "source": [
    "def example1(*args):\n",
    "    \n",
    "    \"\"\"This function is used to pass n number of arguments\"\"\"\n",
    "    \n",
    "    return args\n",
    "\n",
    "example1(1,2,3, 33.25, 89+8j, [8,6,5], \"Dev\")\n",
    "\n"
   ]
  },
  {
   "cell_type": "code",
   "execution_count": 3,
   "id": "e848e64b-6a46-431a-b580-88529acaf392",
   "metadata": {},
   "outputs": [
    {
     "data": {
      "text/plain": [
       "{'a': 1, 'b': 3.125, 'c': (65+9j), 'd': ['ram', 'shyam', 'jaadu']}"
      ]
     },
     "execution_count": 3,
     "metadata": {},
     "output_type": "execute_result"
    }
   ],
   "source": [
    "def example2(**kwargs):\n",
    "    \n",
    "    \"\"\"This function is used to pass n number of arguments as a dictionary\"\"\"\n",
    "    \n",
    "    return kwargs\n",
    "\n",
    "example2(a = 1, b = 3.125, c = 65+9j, d = [\"ram\", \"shyam\", \"jaadu\"])\n",
    "    \n",
    "    "
   ]
  },
  {
   "cell_type": "raw",
   "id": "bb9b31d8-ee79-42ed-bf7e-e7185e140a44",
   "metadata": {},
   "source": [
    "3. An iterator is an object that contains a countable number of values.\n",
    "   The iterator object is initialized using the iter() method.\n",
    "   The next() method is used to iterate over the iterable objects."
   ]
  },
  {
   "cell_type": "code",
   "execution_count": 4,
   "id": "8739aa79-52cc-4046-885e-74852fa19341",
   "metadata": {},
   "outputs": [
    {
     "name": "stdout",
     "output_type": "stream",
     "text": [
      "2\n",
      "4\n",
      "6\n",
      "8\n",
      "10\n"
     ]
    }
   ],
   "source": [
    "my_list = [2, 4, 6, 8, 10, 12, 14, 16, 18, 20]\n",
    "\n",
    "iterator = iter(my_list)\n",
    "\n",
    "print(next(iterator))\n",
    "print(next(iterator))\n",
    "print(next(iterator))\n",
    "print(next(iterator))\n",
    "print(next(iterator))"
   ]
  },
  {
   "cell_type": "raw",
   "id": "0c826583-dbc0-4af6-ab55-11e14791a27e",
   "metadata": {},
   "source": [
    "4.  Python generator function allows you to declare a function that behaves like an iterator, providing a faster and easier way to create iterators. \n",
    "\tThe yield keyword will convert an expression that is specified along with it to a generator object and return it to the caller."
   ]
  },
  {
   "cell_type": "code",
   "execution_count": 5,
   "id": "4d8deba5-27c4-4f4e-af47-9fc078efa29e",
   "metadata": {},
   "outputs": [
    {
     "name": "stdout",
     "output_type": "stream",
     "text": [
      "0\n",
      "1\n",
      "2\n"
     ]
    }
   ],
   "source": [
    "def my_generator(n):\n",
    "    \n",
    "    \"\"\"This function will print the values which are less than n value\"\"\"\n",
    "    \n",
    "    value = 0\n",
    "\n",
    "    while value < n:\n",
    "        yield value\n",
    "        value += 1\n",
    "\n",
    "for value in my_generator(3):\n",
    "    print(value)"
   ]
  },
  {
   "cell_type": "code",
   "execution_count": 6,
   "id": "b0a35c03-215a-4ef2-a842-84c6a1978d9f",
   "metadata": {},
   "outputs": [],
   "source": [
    "5.\n",
    "def prime(m,n):\n",
    "    \n",
    "    \"\"\"This function is used to generate prime numbers\"\"\"\n",
    "    \n",
    "    for number in range (m,n+1):  \n",
    "        if number > 1:  \n",
    "            for i in range (2, number):  \n",
    "                if (number % i) == 0:  \n",
    "                    break  \n",
    "            else:  \n",
    "                yield (number) "
   ]
  },
  {
   "cell_type": "code",
   "execution_count": 7,
   "id": "804bf74d-e5f2-40ad-ad66-c891759a2f2e",
   "metadata": {},
   "outputs": [],
   "source": [
    "prime_number = prime(0,1000)"
   ]
  },
  {
   "cell_type": "code",
   "execution_count": 8,
   "id": "e1639287-2318-420b-82c1-692d4c7c6a5a",
   "metadata": {},
   "outputs": [
    {
     "name": "stdout",
     "output_type": "stream",
     "text": [
      "2\n",
      "3\n",
      "5\n",
      "7\n",
      "11\n",
      "13\n",
      "17\n",
      "19\n",
      "23\n",
      "29\n",
      "31\n",
      "37\n",
      "41\n",
      "43\n",
      "47\n",
      "53\n",
      "59\n",
      "61\n",
      "67\n",
      "71\n",
      "73\n",
      "79\n",
      "83\n",
      "89\n",
      "97\n",
      "101\n",
      "103\n",
      "107\n",
      "109\n",
      "113\n",
      "127\n",
      "131\n",
      "137\n",
      "139\n",
      "149\n",
      "151\n",
      "157\n",
      "163\n",
      "167\n",
      "173\n",
      "179\n",
      "181\n",
      "191\n",
      "193\n",
      "197\n",
      "199\n",
      "211\n",
      "223\n",
      "227\n",
      "229\n",
      "233\n",
      "239\n",
      "241\n",
      "251\n",
      "257\n",
      "263\n",
      "269\n",
      "271\n",
      "277\n",
      "281\n",
      "283\n",
      "293\n",
      "307\n",
      "311\n",
      "313\n",
      "317\n",
      "331\n",
      "337\n",
      "347\n",
      "349\n",
      "353\n",
      "359\n",
      "367\n",
      "373\n",
      "379\n",
      "383\n",
      "389\n",
      "397\n",
      "401\n",
      "409\n",
      "419\n",
      "421\n",
      "431\n",
      "433\n",
      "439\n",
      "443\n",
      "449\n",
      "457\n",
      "461\n",
      "463\n",
      "467\n",
      "479\n",
      "487\n",
      "491\n",
      "499\n",
      "503\n",
      "509\n",
      "521\n",
      "523\n",
      "541\n",
      "547\n",
      "557\n",
      "563\n",
      "569\n",
      "571\n",
      "577\n",
      "587\n",
      "593\n",
      "599\n",
      "601\n",
      "607\n",
      "613\n",
      "617\n",
      "619\n",
      "631\n",
      "641\n",
      "643\n",
      "647\n",
      "653\n",
      "659\n",
      "661\n",
      "673\n",
      "677\n",
      "683\n",
      "691\n",
      "701\n",
      "709\n",
      "719\n",
      "727\n",
      "733\n",
      "739\n",
      "743\n",
      "751\n",
      "757\n",
      "761\n",
      "769\n",
      "773\n",
      "787\n",
      "797\n",
      "809\n",
      "811\n",
      "821\n",
      "823\n",
      "827\n",
      "829\n",
      "839\n",
      "853\n",
      "857\n",
      "859\n",
      "863\n",
      "877\n",
      "881\n",
      "883\n",
      "887\n",
      "907\n",
      "911\n",
      "919\n",
      "929\n",
      "937\n",
      "941\n",
      "947\n",
      "953\n",
      "967\n",
      "971\n",
      "977\n",
      "983\n",
      "991\n",
      "997\n"
     ]
    }
   ],
   "source": [
    "for i in prime_number:\n",
    "    print(i)"
   ]
  },
  {
   "cell_type": "code",
   "execution_count": 23,
   "id": "cae3f2f2-2b3d-4f28-bfd0-f56065f12fa7",
   "metadata": {},
   "outputs": [],
   "source": [
    "def prime1(m,n):\n",
    "    \n",
    "    \"\"\"This function is used to generate prime numbers\"\"\"\n",
    "    \n",
    "    for number in range (m,n+1):  \n",
    "        if number > 1:  \n",
    "            for i in range (2, number):  \n",
    "                if (number % i) == 0:  \n",
    "                    break  \n",
    "            else:  \n",
    "                return number"
   ]
  },
  {
   "cell_type": "code",
   "execution_count": 27,
   "id": "91a20227-47ef-4d6d-a300-8a354de3c1b1",
   "metadata": {},
   "outputs": [],
   "source": [
    "prime_numbers = prime1(0,21)"
   ]
  },
  {
   "cell_type": "code",
   "execution_count": 26,
   "id": "bf7af53c-9af0-4ca7-83bc-5561d6fe7afe",
   "metadata": {},
   "outputs": [
    {
     "name": "stdout",
     "output_type": "stream",
     "text": [
      "0\n",
      "1\n",
      "1\n",
      "2\n",
      "3\n",
      "5\n",
      "8\n",
      "13\n",
      "21\n"
     ]
    }
   ],
   "source": [
    "6.\n",
    "def fib(n=10):\n",
    "    \n",
    "    \"\"\"This function is used to print first 10 fibonacci numbers\"\"\"\n",
    "    a , b = 0, 1\n",
    "    counter = 1\n",
    "\n",
    "    while counter < n:\n",
    "        print(a)\n",
    "        c = a + b\n",
    "        a = b\n",
    "        b = c\n",
    "        counter += 1\n",
    "\n",
    "fib()\n"
   ]
  },
  {
   "cell_type": "code",
   "execution_count": 10,
   "id": "f55c4eaa-d71f-410b-8d7a-cf0b27abd146",
   "metadata": {},
   "outputs": [
    {
     "name": "stdout",
     "output_type": "stream",
     "text": [
      "['p', 'w', 's', 'k', 'i', 'l', 'l', 's']\n"
     ]
    }
   ],
   "source": [
    "7.\n",
    "s = \"pwskills\"\n",
    "l = []\n",
    "for i in s:\n",
    "    l.append(i)\n",
    "print(l)    "
   ]
  },
  {
   "cell_type": "code",
   "execution_count": 15,
   "id": "0d85ff6c-5d6a-487e-a71f-06ee48dcc108",
   "metadata": {},
   "outputs": [
    {
     "name": "stdin",
     "output_type": "stream",
     "text": [
      "Enter a value: 1\n"
     ]
    },
    {
     "name": "stdout",
     "output_type": "stream",
     "text": [
      "This value is a palindrome number!\n"
     ]
    }
   ],
   "source": [
    "8.\n",
    "num = int(input(\"Enter a value:\"))  \n",
    "temp = num  \n",
    "rev = 0  \n",
    "while(num > 0):  \n",
    "    dig = num % 10  \n",
    "    rev = rev * 10 + dig  \n",
    "    num = num // 10  \n",
    "if(temp == rev):  \n",
    "    print(\"This value is a palindrome number!\")  \n",
    "else:  \n",
    "    print(\"This value is not a palindrome number!\")  "
   ]
  },
  {
   "cell_type": "code",
   "execution_count": 20,
   "id": "dc3253db-8976-4ab6-8367-cf9fca15055a",
   "metadata": {},
   "outputs": [
    {
     "name": "stdout",
     "output_type": "stream",
     "text": [
      "l=  [1, 2, 3, 4, 5, 6, 7, 8, 9, 10, 11, 12, 13, 14, 15, 16, 17, 18, 19, 20, 21, 22, 23, 24, 25, 26, 27, 28, 29, 30, 31, 32, 33, 34, 35, 36, 37, 38, 39, 40, 41, 42, 43, 44, 45, 46, 47, 48, 49, 50, 51, 52, 53, 54, 55, 56, 57, 58, 59, 60, 61, 62, 63, 64, 65, 66, 67, 68, 69, 70, 71, 72, 73, 74, 75, 76, 77, 78, 79, 80, 81, 82, 83, 84, 85, 86, 87, 88, 89, 90, 91, 92, 93, 94, 95, 96, 97, 98, 99, 100]\n",
      "----------------------------------------------------------------------------------------------------\n",
      "l1=  [1, 3, 5, 7, 9, 11, 13, 15, 17, 19, 21, 23, 25, 27, 29, 31, 33, 35, 37, 39, 41, 43, 45, 47, 49, 51, 53, 55, 57, 59, 61, 63, 65, 67, 69, 71, 73, 75, 77, 79, 81, 83, 85, 87, 89, 91, 93, 95, 97, 99]\n"
     ]
    }
   ],
   "source": [
    "9. \n",
    "\n",
    "l = []\n",
    "for i in range(1,101):\n",
    "    l.append(i)\n",
    "print(\"l= \", l)\n",
    "\n",
    "print(\"----------------------------------------------------------------------------------------------------\")\n",
    "\n",
    "l1 = list(filter(lambda x: x%2 !=0, l))\n",
    "print(\"l1= \", l1)\n"
   ]
  },
  {
   "cell_type": "code",
   "execution_count": null,
   "id": "5e2c24ed-a8d6-40df-94fe-deb3e9277018",
   "metadata": {},
   "outputs": [],
   "source": []
  }
 ],
 "metadata": {
  "kernelspec": {
   "display_name": "Python 3 (ipykernel)",
   "language": "python",
   "name": "python3"
  },
  "language_info": {
   "codemirror_mode": {
    "name": "ipython",
    "version": 3
   },
   "file_extension": ".py",
   "mimetype": "text/x-python",
   "name": "python",
   "nbconvert_exporter": "python",
   "pygments_lexer": "ipython3",
   "version": "3.10.8"
  }
 },
 "nbformat": 4,
 "nbformat_minor": 5
}
