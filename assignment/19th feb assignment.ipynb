{
 "cells": [
  {
   "cell_type": "code",
   "execution_count": null,
   "id": "817ec4cf-d2c1-4b0f-930f-39ee30312248",
   "metadata": {},
   "outputs": [],
   "source": [
    "1.\n",
    "Flask is a web application framework written in Python. It was developed by Armin Ronacher, who led a team of international Python \n",
    "enthusiasts called Poocco.\n",
    "\n",
    "Pros of Flask:\n",
    "\t\t\tIt is a lightweight framework that offers hassle-free development.\n",
    "\t\t\tProvide flexibility to the developer to experiment with their modules or architecture.\n",
    "\t\t\tIt is suitable for small projects.\n",
    "\t\t\tOffers a built-in development server and fast debugger.\n",
    "\t\t\tEasily scalable for the applications.\n",
    "\t\t\tSupport for secure cookies."
   ]
  },
  {
   "cell_type": "code",
   "execution_count": null,
   "id": "22c01627-1a69-4bce-b60b-2e13c8dce257",
   "metadata": {},
   "outputs": [],
   "source": [
    "2.\n",
    "from flask import Flask\n",
    "\n",
    "app = Flask(__name__)\n",
    "\n",
    "@app.route(\"/\")\n",
    "def hello_world():\n",
    "    return \"<h1>Hello World!!</h1>\"\n",
    "\n",
    "if __name__==\"__main__\":\n",
    "    app.run(host=\"0.0.0.0\")"
   ]
  },
  {
   "cell_type": "code",
   "execution_count": null,
   "id": "09769558-5347-4eec-851e-0589f4840d93",
   "metadata": {},
   "outputs": [],
   "source": [
    "3.\n",
    "App Routing means mapping the URLs to a specific function that will handle the logic for that URL.\n",
    "\n",
    "App routing is the technique used to map the specific URL with the associated function intended to perform some task. The Latest Web \n",
    "frameworks use the routing technique to help users remember application URLs. "
   ]
  },
  {
   "cell_type": "code",
   "execution_count": null,
   "id": "6872c708-4de5-4f23-8215-10ac2f5ad294",
   "metadata": {},
   "outputs": [],
   "source": [
    "4.\n",
    "from flask import Flask\n",
    "\n",
    "app = Flask(__name__)\n",
    "\n",
    "@app.route(\"/\")\n",
    "def company_details():\n",
    "    return \"<h1>Company Name: ABC Corporation</h1><h1>Location: India</h1><h1>Contact Detail: 999-999-9999</h1>\"\n",
    "\n",
    "\n",
    "\n",
    "@app.route(\"/welcome\")\n",
    "def welcome():\n",
    "    return\"<h1>Welcome to ABC Corporation</h1>\"    \n",
    "\n",
    "if __name__==\"__main__\":\n",
    "    app.run(host=\"0.0.0.0\")"
   ]
  },
  {
   "cell_type": "code",
   "execution_count": null,
   "id": "a386cf2a-fb25-4642-a367-7a4aa330131c",
   "metadata": {},
   "outputs": [],
   "source": [
    "5.\n",
    "To build a URL to a specific function, use the url_for() function.\n",
    "\n",
    "from flask import url_for, Flask\n",
    "appFlask = Flask(__name__)\n",
    "@appFlask.route('/home')\n",
    "def home():\n",
    "    return 'We are in Home Page!'\n",
    "with appFlask.test_request_context():\n",
    "    print(url_for('login'))"
   ]
  },
  {
   "cell_type": "code",
   "execution_count": null,
   "id": "0b785f16-ab9c-4580-934c-1bafe253522d",
   "metadata": {},
   "outputs": [],
   "source": []
  }
 ],
 "metadata": {
  "kernelspec": {
   "display_name": "Python 3 (ipykernel)",
   "language": "python",
   "name": "python3"
  },
  "language_info": {
   "codemirror_mode": {
    "name": "ipython",
    "version": 3
   },
   "file_extension": ".py",
   "mimetype": "text/x-python",
   "name": "python",
   "nbconvert_exporter": "python",
   "pygments_lexer": "ipython3",
   "version": "3.10.8"
  }
 },
 "nbformat": 4,
 "nbformat_minor": 5
}
