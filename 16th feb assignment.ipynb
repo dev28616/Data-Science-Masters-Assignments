{
 "cells": [
  {
   "cell_type": "code",
   "execution_count": null,
   "id": "757f6fa3-5760-4093-87c8-2e0f0c76a57f",
   "metadata": {},
   "outputs": [],
   "source": [
    "1.\n",
    "A database is an organized collection of structured information, or data, typically stored electronically in a computer system.\n",
    "\n",
    "SQL databases are vertically scalable, while NoSQL databases are horizontally scalable. SQL databases are table-based, \n",
    "while NoSQL databases are document, key-value, graph, or wide-column stores. SQL databases are better for multi-row transactions, \n",
    "while NoSQL is better for unstructured data like documents or JSON."
   ]
  },
  {
   "cell_type": "code",
   "execution_count": null,
   "id": "ba63468e-e62f-4aab-995b-3cc76ba02c18",
   "metadata": {},
   "outputs": [],
   "source": [
    "2.\n",
    "Data Definition Language is a subset of SQL and a part of DBMS. DDL consist of Commands to commands like CREATE, ALTER, TRUNCATE and DROP.\n",
    "\n",
    "The CREATE TABLE command creates a new table in the database.\n",
    "CREATE TABLE Persons (\n",
    "    PersonID int,\n",
    "    LastName varchar(255),\n",
    "    FirstName varchar(255),\n",
    "    Address varchar(255),\n",
    "    City varchar(255)\n",
    ");\n",
    "\n",
    "\n",
    "The ALTER TABLE command adds, deletes, or modifies columns in a table and also adds and deletes various constraints in a table.\n",
    "ALTER TABLE Customers\n",
    "ADD Email varchar(255);\n",
    "\n",
    "\n",
    "The DROP TABLE command deletes a table in the database.\n",
    "DROP TABLE Shippers;\n",
    "\n",
    "\n",
    "The TRUNCATE TABLE command deletes the data inside a table, but not the table itself.\n",
    "TRUNCATE TABLE Categories;"
   ]
  },
  {
   "cell_type": "code",
   "execution_count": null,
   "id": "1dbf694d-e144-4069-9d8a-0801264b5b3e",
   "metadata": {},
   "outputs": [],
   "source": [
    "3.\n",
    "DML is an abbreviation for Data Manipulation Language. Represents a collection of programming languages explicitly used to make changes to \n",
    "the database, such as: CRUD operations to create, read, update and delete data. Using INSERT, SELECT, UPDATE, and DELETE commands.\n",
    "\n",
    "Insert statement is used to create and store new records in our database.\n",
    "INSERT INTO tableName(column1,column2,column3……..) VALUES(value1,value2,value3……) ;\n",
    "\n",
    "Data stored in a database needs to be changed and updated time and again to maintain the value data holds. \n",
    "The process is made easy by using the UPDATE statement.\n",
    "UPDATE tableName SET column1 = value1, column2 = value2,... where condition;\n",
    "\n",
    "DELETE is used to delete data from database.\n",
    "DELETE FROM table_name WHERE condition;"
   ]
  },
  {
   "cell_type": "code",
   "execution_count": null,
   "id": "eb53d094-8109-4eb5-9dff-0958c40d22e8",
   "metadata": {},
   "outputs": [],
   "source": [
    "4.\n",
    "The DQL statements can be used in order to query the data and information contained in schema objects.\n",
    "\n",
    "A SELECT statement retrieves zero or more rows from one or more database tables or database views.\n",
    "SELECT column1, column2, ...\n",
    "FROM table_name;"
   ]
  },
  {
   "cell_type": "code",
   "execution_count": null,
   "id": "795d4925-1151-4733-9739-95a1c6e52165",
   "metadata": {},
   "outputs": [],
   "source": [
    "5.\n",
    "A primary key is used to ensure data in the specific column is unique. \n",
    "A foreign key is a column or group of columns in a relational database table that provides a link between data in two tables."
   ]
  },
  {
   "cell_type": "code",
   "execution_count": null,
   "id": "188dc437-76c1-4672-af64-c6f5de9be241",
   "metadata": {},
   "outputs": [],
   "source": [
    "6.\n",
    "import mysql.connector  \n",
    "\n",
    "myconn = mysql.connector.connect(host = \"localhost\", user = \"root\",passwd = \"google\", database = \"mydb\")  \n",
    "     \n",
    "print(myconn)   \n",
    " \n",
    "cur = myconn.cursor()  \n",
    "  \n",
    "print(cur)  "
   ]
  },
  {
   "cell_type": "code",
   "execution_count": null,
   "id": "32205823-6484-4288-b115-16c81ab4f0de",
   "metadata": {},
   "outputs": [],
   "source": [
    "This method executes the given database operation (query or command). execute() returns an iterator if multi is True ."
   ]
  },
  {
   "cell_type": "code",
   "execution_count": null,
   "id": "ff8225c8-b3e5-441d-80b9-da2491c39238",
   "metadata": {},
   "outputs": [],
   "source": [
    "7.\n",
    "1\tFROM\tTables are joined to get the base data.\n",
    "2\tWHERE\tThe base data is filtered.\n",
    "3\tGROUP BY\tThe filtered base data is grouped.\n",
    "4\tHAVING\tThe grouped base data is filtered.\n",
    "5\tSELECT\tThe final data is returned.\n",
    "6\tORDER BY\tThe final data is sorted.\n",
    "7\tLIMIT\tThe returned data is limited to row count."
   ]
  }
 ],
 "metadata": {
  "kernelspec": {
   "display_name": "Python 3 (ipykernel)",
   "language": "python",
   "name": "python3"
  },
  "language_info": {
   "codemirror_mode": {
    "name": "ipython",
    "version": 3
   },
   "file_extension": ".py",
   "mimetype": "text/x-python",
   "name": "python",
   "nbconvert_exporter": "python",
   "pygments_lexer": "ipython3",
   "version": "3.10.8"
  }
 },
 "nbformat": 4,
 "nbformat_minor": 5
}
