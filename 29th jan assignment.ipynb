{
 "cells": [
  {
   "cell_type": "code",
   "execution_count": null,
   "id": "5810831d-0622-4ed5-a8fd-3cd6c4db5056",
   "metadata": {},
   "outputs": [],
   "source": [
    "1. 'Guido van Rossum' developed python programming language."
   ]
  },
  {
   "cell_type": "code",
   "execution_count": null,
   "id": "a1667c78-14c1-4aa4-a9c5-9955acd93400",
   "metadata": {},
   "outputs": [],
   "source": [
    "2. python supports Object-oriented programming and structured programming."
   ]
  },
  {
   "cell_type": "code",
   "execution_count": null,
   "id": "017a72e3-5dc1-4547-956e-a69671b98b27",
   "metadata": {},
   "outputs": [],
   "source": [
    "3.Yes, Python is case sensitive when dealing with identifiers."
   ]
  },
  {
   "cell_type": "code",
   "execution_count": null,
   "id": "cae0b265-4fb4-4ee9-b707-acb3d4a529c5",
   "metadata": {},
   "outputs": [],
   "source": [
    "4.\".py\" is the correct extention for python file. "
   ]
  },
  {
   "cell_type": "code",
   "execution_count": null,
   "id": "ea582eb1-ba4c-411c-8ab1-813de3b942e5",
   "metadata": {},
   "outputs": [],
   "source": [
    "5. Python is an interpreted language."
   ]
  },
  {
   "cell_type": "code",
   "execution_count": null,
   "id": "724dbac7-92ad-4ea0-9965-f7b8070f8dbf",
   "metadata": {},
   "outputs": [],
   "source": [
    "6. The block are - a module, a function body and a class definition."
   ]
  },
  {
   "cell_type": "code",
   "execution_count": null,
   "id": "6648a951-14c2-4889-aa5a-f22f82740371",
   "metadata": {},
   "outputs": [],
   "source": [
    "7. '#' is used to give single line comments in python."
   ]
  },
  {
   "cell_type": "code",
   "execution_count": null,
   "id": "646c06d2-dba5-4884-b379-d891bdf19c90",
   "metadata": {},
   "outputs": [],
   "source": [
    "8..python_version() method present in the platform module to print the version of the Python interpreter installed on the system. And we can use 'python --version' in CMD to \n",
    "check the version of python."
   ]
  },
  {
   "cell_type": "code",
   "execution_count": null,
   "id": "36746ea1-893a-439f-87e5-46db11a73fd9",
   "metadata": {},
   "outputs": [],
   "source": [
    "9. Python supports the creation of anonymous functions at runtime, using a construct called lambda."
   ]
  },
  {
   "cell_type": "code",
   "execution_count": null,
   "id": "5bb75364-7fea-41f8-b283-52ae56394e5a",
   "metadata": {},
   "outputs": [],
   "source": [
    "10. 'pip' is the standard tool for installing Python packages and their dependencies in a secure manner."
   ]
  },
  {
   "cell_type": "code",
   "execution_count": null,
   "id": "d5dcd0e8-7047-4d82-b7f5-460bfebcb5d2",
   "metadata": {},
   "outputs": [],
   "source": [
    "11. python built-in functions : \n",
    "\tprint( ) function.\n",
    "\ttype( ) function.\n",
    "\tinput( ) function.\n",
    "\tabs( ) function.\n",
    "\tpow( ) function.\n",
    "\tdir( ) function.\n",
    "\tsorted( ) function.\n",
    "\tmax( ) function"
   ]
  },
  {
   "cell_type": "code",
   "execution_count": null,
   "id": "e03f5394-5ff3-4e44-a383-de2e5b1d2835",
   "metadata": {},
   "outputs": [],
   "source": [
    "12. An identifier can have a maximum length of 79 characters in Python. "
   ]
  },
  {
   "cell_type": "code",
   "execution_count": null,
   "id": "0933d888-d8b0-413a-af9c-4fb8561eec72",
   "metadata": {},
   "outputs": [],
   "source": [
    "13. Benefits of python :\n",
    "    Easy to Read, Learn and Write\n",
    "    Improved Productivity\n",
    "    Interpreted Language\n",
    "    Dynamically Typed\n",
    "    Free and Open-Source\n",
    "    Vast Libraries Support\n",
    "    Portability."
   ]
  },
  {
   "cell_type": "code",
   "execution_count": null,
   "id": "2fe4b5d1-9d63-43b1-9297-32f7629c60a2",
   "metadata": {},
   "outputs": [],
   "source": [
    "14. Memory management in Python involves a private heap containing all Python objects and data structures. \n",
    "The management of this private heap is ensured internally by the Python memory manager."
   ]
  },
  {
   "cell_type": "code",
   "execution_count": null,
   "id": "115166bb-ef3b-4466-beba-f42ded1d9fe2",
   "metadata": {},
   "outputs": [],
   "source": [
    "15. Install python from this link https://www.python.org/downloads/\n",
    "\tAfter this, install it on your PC. Look for the location where PYTHON has been installed on your PC using tge following command on your command prompt: cmd python.\n",
    "\tThen go to advanced system settings and add new variable and name it as PYTHON_NAME and paste the copied path.\n",
    "\tThen look for the path variable, select it's value and select edit\n",
    "\tAdd a semicolon towards the end of the value if it's not present and then type %PYTHON_HOME%"
   ]
  },
  {
   "cell_type": "code",
   "execution_count": null,
   "id": "f8f71c64-98d2-400b-90f2-358e53e3350b",
   "metadata": {},
   "outputs": [],
   "source": [
    "16. The indentation in Python is very important. Python uses indentation to indicate a block of code."
   ]
  }
 ],
 "metadata": {
  "kernelspec": {
   "display_name": "Python 3 (ipykernel)",
   "language": "python",
   "name": "python3"
  },
  "language_info": {
   "codemirror_mode": {
    "name": "ipython",
    "version": 3
   },
   "file_extension": ".py",
   "mimetype": "text/x-python",
   "name": "python",
   "nbconvert_exporter": "python",
   "pygments_lexer": "ipython3",
   "version": "3.10.8"
  }
 },
 "nbformat": 4,
 "nbformat_minor": 5
}
