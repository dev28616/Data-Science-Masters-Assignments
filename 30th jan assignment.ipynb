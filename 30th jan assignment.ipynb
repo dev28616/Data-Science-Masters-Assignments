{
 "cells": [
  {
   "cell_type": "code",
   "execution_count": 1,
   "id": "c84ab7fe-a5bc-4dd8-8ceb-223877f37d41",
   "metadata": {},
   "outputs": [
    {
     "name": "stdin",
     "output_type": "stream",
     "text": [
      "Enter your percentage here(0 - 100) 95\n"
     ]
    },
    {
     "name": "stdout",
     "output_type": "stream",
     "text": [
      "Outstanding! you have passed with grade A.\n"
     ]
    }
   ],
   "source": [
    "1.\n",
    "\n",
    "percentage = int(input(\"Enter your percentage here(0 - 100)\"))\n",
    "\n",
    "if percentage < 0 or percentage >100:\n",
    "    print(\"Invalid input!\")\n",
    "elif percentage > 90:\n",
    "    print(\"Outstanding! you have passed with grade A.\")\n",
    "elif percentage > 80 and percentage <= 90:\n",
    "    print(\"Bravo! you have passed with grade B.\")\n",
    "elif percentage >= 60 and percentage <= 80:\n",
    "    print(\"Good! you have passed with grade C.\")\n",
    "else:\n",
    "    print(\"Study hard! Grade D.\")\n",
    "    "
   ]
  },
  {
   "cell_type": "code",
   "execution_count": 2,
   "id": "9cc435bf-8b3c-4554-a344-75827847b8f9",
   "metadata": {},
   "outputs": [
    {
     "name": "stdin",
     "output_type": "stream",
     "text": [
      "Enter the cost price of your bike:  250000\n"
     ]
    },
    {
     "name": "stdout",
     "output_type": "stream",
     "text": [
      "You have to pay 15% TAX. TAX amount:  37500.0\n"
     ]
    }
   ],
   "source": [
    "2.\n",
    "\n",
    "cp = int(input(\"Enter the cost price of your bike: \"))\n",
    "\n",
    "if cp < 0:\n",
    "    print(\"Invalid input!\")\n",
    "elif cp > 100000:\n",
    "    print(\"You have to pay 15% TAX. TAX amount: \", cp * 0.15)\n",
    "elif cp > 50000 and cp <= 100000:\n",
    "    print(\"You have to pay 10% TAX. TAX amount: \", cp * 0.10)\n",
    "else:\n",
    "    print(\"You have to pay 5% TAX. TAX amount: \", cp * 0.05)\n",
    "    "
   ]
  },
  {
   "cell_type": "code",
   "execution_count": 3,
   "id": "325731f9-41f5-4fad-ab1e-1d5a12394fc2",
   "metadata": {},
   "outputs": [
    {
     "name": "stdin",
     "output_type": "stream",
     "text": [
      "Enter the city name that you want to go:  agra\n"
     ]
    },
    {
     "name": "stdout",
     "output_type": "stream",
     "text": [
      "'Taj Mahal', the symbol of love.\n"
     ]
    }
   ],
   "source": [
    "3.\n",
    "\n",
    "city = input(\"Enter the city name that you want to go: \")\n",
    "\n",
    "if city.title() == \"Delhi\":\n",
    "    print(\"'Red Fort' is one of the most beautiful monuments of India.\")\n",
    "elif city.title() == \"Agra\":\n",
    "    print(\"'Taj Mahal', the symbol of love.\")\n",
    "elif city.title() == \"Jaipur\":\n",
    "    print(\"'Jal Mahal' is one of the most majestic places in Jaipur.\")\n",
    "else:\n",
    "    print(\"No data found :(\")\n",
    "    "
   ]
  },
  {
   "cell_type": "code",
   "execution_count": 4,
   "id": "354db4b0-a9ee-48d6-ae56-5f2a0d6209fb",
   "metadata": {},
   "outputs": [
    {
     "name": "stdin",
     "output_type": "stream",
     "text": [
      "enter the number 40\n"
     ]
    },
    {
     "name": "stdout",
     "output_type": "stream",
     "text": [
      "2\n"
     ]
    }
   ],
   "source": [
    "4.\n",
    "\n",
    "n = int(input(\"enter the number\"))\n",
    "count = 0\n",
    "\n",
    "while n >10:\n",
    "    n = n / 3\n",
    "    count+=1\n",
    "print(count)        \n"
   ]
  },
  {
   "cell_type": "raw",
   "id": "bbbc1463-3376-47a6-b33e-0e372ba35bd2",
   "metadata": {},
   "source": [
    "5. 'While loop' is used when the numbr of iterations are unknown. 'while loop' is used to run a block code until a certain condition is met.\n"
   ]
  },
  {
   "cell_type": "code",
   "execution_count": 5,
   "id": "18dc5474-47bc-482a-b223-be14c6a33841",
   "metadata": {},
   "outputs": [
    {
     "name": "stdin",
     "output_type": "stream",
     "text": [
      "enter the number 90\n"
     ]
    },
    {
     "name": "stdout",
     "output_type": "stream",
     "text": [
      "2\n"
     ]
    }
   ],
   "source": [
    "n = int(input(\"enter the number\"))\n",
    "count = 0\n",
    "\n",
    "while n >10:\n",
    "    n = n / 3\n",
    "    count+=1\n",
    "print(count)    \n"
   ]
  },
  {
   "cell_type": "code",
   "execution_count": 6,
   "id": "7558ee3c-6317-47f0-bc78-4f0b9ad8243d",
   "metadata": {},
   "outputs": [
    {
     "name": "stdin",
     "output_type": "stream",
     "text": [
      "Enter number of rows :  5\n"
     ]
    },
    {
     "name": "stdout",
     "output_type": "stream",
     "text": [
      "* \n",
      "* * \n",
      "* * * \n",
      "* * * * \n",
      "* * * * * \n"
     ]
    }
   ],
   "source": [
    "6.\n",
    "n = int(input('Enter number of rows : '))\n",
    " \n",
    "i=1\n",
    "while i<=n:\n",
    "    j=1\n",
    "    while j<=i:\n",
    "        print(\"*\",end=\" \")\n",
    "        j=j+1\n",
    "    print(\"\")\n",
    "    i=i+1"
   ]
  },
  {
   "cell_type": "code",
   "execution_count": 7,
   "id": "f83444f0-3d27-47ec-b0c9-d382675d8617",
   "metadata": {},
   "outputs": [
    {
     "name": "stdin",
     "output_type": "stream",
     "text": [
      "Enter number of rows :  5\n"
     ]
    },
    {
     "name": "stdout",
     "output_type": "stream",
     "text": [
      "* * * * * \n",
      "* * * * \n",
      "* * * \n",
      "* * \n",
      "* \n"
     ]
    }
   ],
   "source": [
    "n = int(input('Enter number of rows : '))\n",
    " \n",
    "i = 1\n",
    "while i <= n :\n",
    "    j = n\n",
    "    while j >= i:\n",
    "        print(\"*\", end = \" \")\n",
    "        j -= 1\n",
    "    print(\"\")\n",
    "    i += 1"
   ]
  },
  {
   "cell_type": "code",
   "execution_count": 25,
   "id": "99eb6349-6e57-4f0b-adbd-830eb4fd32cf",
   "metadata": {},
   "outputs": [
    {
     "ename": "IndentationError",
     "evalue": "unindent does not match any outer indentation level (<tokenize>, line 3)",
     "output_type": "error",
     "traceback": [
      "\u001b[0;36m  File \u001b[0;32m<tokenize>:3\u001b[0;36m\u001b[0m\n\u001b[0;31m    while i>=1:\u001b[0m\n\u001b[0m    ^\u001b[0m\n\u001b[0;31mIndentationError\u001b[0m\u001b[0;31m:\u001b[0m unindent does not match any outer indentation level\n"
     ]
    }
   ],
   "source": []
  },
  {
   "cell_type": "code",
   "execution_count": null,
   "id": "35888539-bc3f-4f7d-a2f7-a7e47130f68a",
   "metadata": {},
   "outputs": [],
   "source": []
  }
 ],
 "metadata": {
  "kernelspec": {
   "display_name": "Python 3 (ipykernel)",
   "language": "python",
   "name": "python3"
  },
  "language_info": {
   "codemirror_mode": {
    "name": "ipython",
    "version": 3
   },
   "file_extension": ".py",
   "mimetype": "text/x-python",
   "name": "python",
   "nbconvert_exporter": "python",
   "pygments_lexer": "ipython3",
   "version": "3.10.8"
  }
 },
 "nbformat": 4,
 "nbformat_minor": 5
}
