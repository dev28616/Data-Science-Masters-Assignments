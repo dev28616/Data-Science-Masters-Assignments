{
 "cells": [
  {
   "cell_type": "code",
   "execution_count": null,
   "id": "696810d1-3fc2-481d-9bb0-b80089757d33",
   "metadata": {},
   "outputs": [],
   "source": [
    "1.\n",
    "The for loop is used when we already know the number of iterations, which means when we know how many times a statement has to be executed. \n",
    "When we need to end the loop on a condition other than the number of times, we use a while loop. "
   ]
  },
  {
   "cell_type": "code",
   "execution_count": 1,
   "id": "4ae83a84-f1da-4b26-aeef-28449493cd2f",
   "metadata": {},
   "outputs": [
    {
     "name": "stdout",
     "output_type": "stream",
     "text": [
      "sum of first 10 natural number is:  45\n",
      "product of first 10 natural number is:  0\n"
     ]
    }
   ],
   "source": [
    "2.\n",
    "sum = 0\n",
    "product = 1\n",
    "for i in range (10):\n",
    "    sum += i\n",
    "    product *= i\n",
    "    \n",
    "print(\"sum of first 10 natural number is: \", sum)\n",
    "print(\"product of first 10 natural number is: \", product)"
   ]
  },
  {
   "cell_type": "code",
   "execution_count": 2,
   "id": "c4252d23-bfba-453d-8de6-595bb4b88d70",
   "metadata": {},
   "outputs": [
    {
     "name": "stdout",
     "output_type": "stream",
     "text": [
      "sum of first 10 natural number is:  45\n",
      "product of first 10 natural number is:  0\n"
     ]
    }
   ],
   "source": [
    "n = 0\n",
    "sum = 0\n",
    "product = 1\n",
    "\n",
    "while n < 10:\n",
    "    sum += n\n",
    "    product *= n\n",
    "    n += 1\n",
    "    \n",
    "print(\"sum of first 10 natural number is: \", sum)\n",
    "print(\"product of first 10 natural number is: \", product)    "
   ]
  },
  {
   "cell_type": "code",
   "execution_count": 3,
   "id": "e16d40bf-44dd-4fe1-b9e3-d67bf8bbf5da",
   "metadata": {},
   "outputs": [
    {
     "name": "stdin",
     "output_type": "stream",
     "text": [
      "Enter the amount of consumed electic in unit 310\n"
     ]
    },
    {
     "name": "stdout",
     "output_type": "stream",
     "text": [
      "User has to pay the amount of 2250 Rs. within next 15 days.\n"
     ]
    }
   ],
   "source": [
    "3.\n",
    "units = int(input(\"Enter the amount of consumed electic in unit\"))\n",
    "if units < 0 :\n",
    "    print(\"invalid input!\")\n",
    "elif 100 >= units >= 0:\n",
    "    charge = 100 * 4.5\n",
    "elif 200 >= units > 100:\n",
    "    charge = (100 * 4.5)+((units-100) * 6)\n",
    "elif 300 >= units > 200:\n",
    "    charge = (100 * 4.5)+(100 * 6)+((units-200) * 10)\n",
    "elif units > 300:\n",
    "    charge = (100 * 4.5)+(100 * 6)+(100 * 10)+((units-300) * 20)\n",
    "    \n",
    "print(\"User has to pay the amount of {} Rs. within next 15 days.\".format(int(charge)))    "
   ]
  },
  {
   "cell_type": "code",
   "execution_count": 9,
   "id": "609b6f1f-b17e-4d2a-a1ee-ddbb3b70d03a",
   "metadata": {},
   "outputs": [
    {
     "name": "stdout",
     "output_type": "stream",
     "text": [
      "Result 1:  [2, 4, 5, 6, 8, 10, 12, 14, 15, 16, 18, 20, 22, 24, 25, 26, 28, 30, 32, 34, 35, 36, 38, 40, 42, 44, 45, 46, 48, 50, 52, 54, 55, 56, 58, 60, 62, 64, 65, 66, 68, 70, 72, 74, 75, 76, 78, 80, 82, 84, 85, 86, 88, 90, 92, 94, 95, 96, 98, 100]\n",
      "----------------------------------------------------------------------------\n",
      "Result 2:  [2, 4, 5, 6, 8, 10, 12, 14, 15, 16, 18, 20, 22, 24, 25, 26, 28, 30, 32, 34, 35, 36, 38, 40, 42, 44, 45, 46, 48, 50, 52, 54, 55, 56, 58, 60, 62, 64, 65, 66, 68, 70, 72, 74, 75, 76, 78, 80, 82, 84, 85, 86, 88, 90, 92, 94, 95, 96, 98, 100]\n"
     ]
    }
   ],
   "source": [
    "4.\n",
    "lst = [i for i in range(1,101)]\n",
    "result = []\n",
    "\n",
    "#using for loop---------------------------\n",
    "\n",
    "for i in lst:\n",
    "    cube = i**3\n",
    "    if (cube%4 == 0) or (cube%5 == 0):\n",
    "        result.append(i)\n",
    "print(\"Result 1: \",result)        \n",
    "\n",
    "#using while loop-------------------------\n",
    "print(\"----------------------------------------------------------------------------\")\n",
    "n = 0\n",
    "while n < len(lst):\n",
    "    cube1 = lst[n]**3\n",
    "    if (cube1%4 == 0) or (cube1%5 == 0):\n",
    "    \tresult.append(lst[n])\n",
    "    n += 1\n",
    "    break;   \n",
    "print(\"Result 2: \",result)        "
   ]
  },
  {
   "cell_type": "code",
   "execution_count": 10,
   "id": "c94d0fde-6f6e-4871-937c-1c1944be62ba",
   "metadata": {},
   "outputs": [
    {
     "name": "stdout",
     "output_type": "stream",
     "text": [
      "11\n"
     ]
    }
   ],
   "source": [
    "5.\n",
    "vowels = [\"a\", \"e\", \"i\", \"o\", \"u\"]\n",
    "count = 0\n",
    "string = \"I want to become a data scientist\"\n",
    "\n",
    "for i in vowels:\n",
    "    for j in string:\n",
    "        if i==j:\n",
    "            count += 1\n",
    "print(count)            "
   ]
  },
  {
   "cell_type": "code",
   "execution_count": null,
   "id": "3e99a333-6289-4b56-8ce2-73f0346a1d21",
   "metadata": {},
   "outputs": [],
   "source": []
  }
 ],
 "metadata": {
  "kernelspec": {
   "display_name": "Python 3 (ipykernel)",
   "language": "python",
   "name": "python3"
  },
  "language_info": {
   "codemirror_mode": {
    "name": "ipython",
    "version": 3
   },
   "file_extension": ".py",
   "mimetype": "text/x-python",
   "name": "python",
   "nbconvert_exporter": "python",
   "pygments_lexer": "ipython3",
   "version": "3.10.8"
  }
 },
 "nbformat": 4,
 "nbformat_minor": 5
}
