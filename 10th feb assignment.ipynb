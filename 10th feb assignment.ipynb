{
 "cells": [
  {
   "cell_type": "code",
   "execution_count": null,
   "id": "3fb39b93-7540-4074-93ad-1c697a42f640",
   "metadata": {},
   "outputs": [],
   "source": [
    "1.\n",
    "open() is used to open a file.\n",
    "\n",
    "Different modes of opening a file are --- \n",
    "\n",
    "Read Only ('r') : Open text file for reading.\n",
    "Read and Write ('r+'): Open the file for reading and writing.\n",
    "Write Only ('w') : Open the file for writing.\n",
    "Write and Read ('w+') : Open the file for reading and writing.\n",
    "Append Only ('a'): Open the file for writing.\n",
    "Append and Read ('a+') : Open the file for reading and writing."
   ]
  },
  {
   "cell_type": "code",
   "execution_count": null,
   "id": "8d1fb25d-98e5-4ade-a192-b5d0f5acca6b",
   "metadata": {},
   "outputs": [],
   "source": [
    "2.\n",
    "The close() method is used to close an open file.\n",
    "Closing a file after use is important because it frees up system resources that are being used by the file."
   ]
  },
  {
   "cell_type": "code",
   "execution_count": 1,
   "id": "973bbadf-9d12-4247-9818-5f939f107c86",
   "metadata": {},
   "outputs": [],
   "source": [
    "3.\n",
    "f = open(\"test.txt\", 'w')\n",
    "f.write(\"I want to become a Data Scientist\")\n",
    "f.close()"
   ]
  },
  {
   "cell_type": "code",
   "execution_count": 2,
   "id": "adbb5a70-10bf-405c-b3fa-374089ab8081",
   "metadata": {},
   "outputs": [
    {
     "data": {
      "text/plain": [
       "'I want to become a Data Scientist'"
      ]
     },
     "execution_count": 2,
     "metadata": {},
     "output_type": "execute_result"
    }
   ],
   "source": [
    "f = open('test.txt','r')\n",
    "f.read()"
   ]
  },
  {
   "cell_type": "code",
   "execution_count": 4,
   "id": "d54b63ef-1c4f-4675-a7a3-6caf52dd0c7c",
   "metadata": {},
   "outputs": [
    {
     "data": {
      "text/plain": [
       "'I want to become a Data Scientist'"
      ]
     },
     "execution_count": 4,
     "metadata": {},
     "output_type": "execute_result"
    }
   ],
   "source": [
    "4.\n",
    "# read() : This function reads the entire file and returns a string.\n",
    "f = open('test.txt','r')\n",
    "f.read()"
   ]
  },
  {
   "cell_type": "code",
   "execution_count": 6,
   "id": "0ab7dd51-8abd-494d-a767-668f90fec1d0",
   "metadata": {},
   "outputs": [
    {
     "data": {
      "text/plain": [
       "'I want to become a Data Scientist'"
      ]
     },
     "execution_count": 6,
     "metadata": {},
     "output_type": "execute_result"
    }
   ],
   "source": [
    "# The readline() method returns one line from the file.\n",
    "f.seek(0)\n",
    "f.readline()"
   ]
  },
  {
   "cell_type": "code",
   "execution_count": 15,
   "id": "09a3e16e-a97e-461d-9bcf-186683e7242c",
   "metadata": {},
   "outputs": [
    {
     "data": {
      "text/plain": [
       "[]"
      ]
     },
     "execution_count": 15,
     "metadata": {},
     "output_type": "execute_result"
    }
   ],
   "source": [
    "# The readlines() method returns a list containing each line in the file as a list item. \n",
    "f.readlines()"
   ]
  },
  {
   "cell_type": "code",
   "execution_count": null,
   "id": "f0df0d9b-5880-4c78-8aa0-d27263de84c6",
   "metadata": {},
   "outputs": [],
   "source": [
    "5.\n",
    "The with statement works with the open() function to open a file. Unlike open() where you have to close the file with the close() method,\n",
    "the with statement closes the file for you without you telling it to. "
   ]
  },
  {
   "cell_type": "code",
   "execution_count": 16,
   "id": "788b32d2-7d0a-403c-8842-485e5d349647",
   "metadata": {},
   "outputs": [],
   "source": [
    "6.\n",
    "# the write() function is a built-in function that allows you to write data to a file.\n",
    "with open('test2.txt','w') as d:\n",
    "    d.write(\"Hi, this a newly generated text file!!!!!\")"
   ]
  },
  {
   "cell_type": "code",
   "execution_count": 17,
   "id": "a6111d42-015b-4d9e-860e-c40d7a889f4a",
   "metadata": {},
   "outputs": [],
   "source": [
    "#The writelines() method writes the items of a list to the file\n",
    "with open('test2.txt', 'a') as d:\n",
    "    d.writelines([\"\\nwe are going to add some new features into our project\", \"\\n THANK YOU ALL\"])"
   ]
  },
  {
   "cell_type": "code",
   "execution_count": null,
   "id": "c75fbd6e-1171-4b24-ac6c-0957f0c35abd",
   "metadata": {},
   "outputs": [],
   "source": []
  }
 ],
 "metadata": {
  "kernelspec": {
   "display_name": "Python 3 (ipykernel)",
   "language": "python",
   "name": "python3"
  },
  "language_info": {
   "codemirror_mode": {
    "name": "ipython",
    "version": 3
   },
   "file_extension": ".py",
   "mimetype": "text/x-python",
   "name": "python",
   "nbconvert_exporter": "python",
   "pygments_lexer": "ipython3",
   "version": "3.10.8"
  }
 },
 "nbformat": 4,
 "nbformat_minor": 5
}
