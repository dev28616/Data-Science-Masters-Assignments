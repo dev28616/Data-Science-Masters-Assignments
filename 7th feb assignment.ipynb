{
 "cells": [
  {
   "cell_type": "code",
   "execution_count": 1,
   "id": "741fd1dc-96d5-421f-82a6-12c94e1d36af",
   "metadata": {},
   "outputs": [
    {
     "name": "stdin",
     "output_type": "stream",
     "text": [
      "enter your password :-  PWskil1@#$\n"
     ]
    },
    {
     "name": "stdout",
     "output_type": "stream",
     "text": [
      "valid password\n"
     ]
    }
   ],
   "source": [
    "1.\n",
    "\n",
    "password = str(input('enter your password :- '))\n",
    "special_char = ['~','!','@','#','$','%','^','&','*','(',')']\n",
    "\n",
    "def password_checker(password):  \n",
    "    \n",
    "    \"\"\"This function is validating password\"\"\"\n",
    "    \n",
    "    count_upper = 0\n",
    "    count_lower = 0\n",
    "    count_special = 0\n",
    "    count_num = 0\n",
    "    \n",
    "    for i in password:\n",
    "    \tif i.isupper() == True:   #checking upper_case\n",
    "        \tcount_upper += 1\n",
    "    \telif i.islower() == True:   #checking lower_case\n",
    "        \tcount_lower += 1\n",
    "    \telif i.isnumeric() == True:   #checking numeric input\n",
    "        \tcount_num += 1 \n",
    "    \telif True:\n",
    "        \tfor j in special_char:  #checking special character\n",
    "        \t\tif i == j:\n",
    "        \t\t\tcount_special += 1\n",
    "            \n",
    "    if count_upper >= 2 and count_lower >= 2 and count_num >= 1 and count_special >= 3 and len(password) == 10:  #validating password\n",
    "    \tprint(\"valid password\")\n",
    "        \n",
    "    else:\n",
    "    \tprint(\"Invalid Password\")\n",
    "        \n",
    "password_checker(password)  #calling function with argument\n"
   ]
  },
  {
   "cell_type": "markdown",
   "id": "1b068283-b5ba-461b-bdd5-0c58bbedb405",
   "metadata": {},
   "source": [
    "Q2.\n",
    "\n",
    "Check if the string starts with a particular letter\n"
   ]
  },
  {
   "cell_type": "code",
   "execution_count": 2,
   "id": "4fae7e1b-b578-493c-bd94-6ba72d39a8e0",
   "metadata": {},
   "outputs": [
    {
     "name": "stdin",
     "output_type": "stream",
     "text": [
      "enter the word Dev\n"
     ]
    },
    {
     "data": {
      "text/plain": [
       "'Match found!'"
      ]
     },
     "execution_count": 2,
     "metadata": {},
     "output_type": "execute_result"
    }
   ],
   "source": [
    "letter = \"D\"\n",
    "\n",
    "string = str(input('enter the word'))\n",
    "\n",
    "checker = lambda x: 'Match found!' if x[0] == letter else 'Match not found'\n",
    "\n",
    "checker(string)"
   ]
  },
  {
   "cell_type": "raw",
   "id": "fd37154c-af43-47bf-b9ff-cdeb130b4855",
   "metadata": {},
   "source": [
    "Check if the string is numeric"
   ]
  },
  {
   "cell_type": "code",
   "execution_count": 3,
   "id": "42221f7a-35c6-4228-a593-973f4334f3d1",
   "metadata": {},
   "outputs": [
    {
     "name": "stdin",
     "output_type": "stream",
     "text": [
      "enter the sting here:  123\n"
     ]
    },
    {
     "data": {
      "text/plain": [
       "'this string is numeric'"
      ]
     },
     "execution_count": 3,
     "metadata": {},
     "output_type": "execute_result"
    }
   ],
   "source": [
    "user_input = str(input('enter the sting here: '))\n",
    "\n",
    "checker = lambda x: 'this string is numeric' if x.isdigit() == True else 'this string is not numeric'\n",
    "checker(user_input)"
   ]
  },
  {
   "cell_type": "raw",
   "id": "39ab5850-3429-4b8e-91c1-b8273ca43dac",
   "metadata": {},
   "source": [
    "Sort a list of tuples having fruit names and their quantity"
   ]
  },
  {
   "cell_type": "code",
   "execution_count": 4,
   "id": "7d130c6d-14c5-4a6f-be52-d509fca432ca",
   "metadata": {},
   "outputs": [
    {
     "name": "stdout",
     "output_type": "stream",
     "text": [
      "[('orange', 80), ('mango', 99), ('grapes', 1000)]\n"
     ]
    }
   ],
   "source": [
    "l1 = [(\"mango\",99),(\"orange\",80), (\"grapes\", 1000)]\n",
    "\n",
    "def sorting(val):\n",
    "    \"\"\"this function is pointing to the 2nd elements of each tuple in the given list\"\"\"\n",
    "    return val[1]\n",
    "\n",
    "l1.sort(key= sorting)\n",
    "\n",
    "print(l1)"
   ]
  },
  {
   "cell_type": "raw",
   "id": "440ca607-3d6f-4439-91d4-8a30358055c1",
   "metadata": {},
   "source": [
    "Find the squares of numbers from 1 to 10"
   ]
  },
  {
   "cell_type": "code",
   "execution_count": 5,
   "id": "c89c1052-6df8-473a-8ebb-a1ea1f0df564",
   "metadata": {},
   "outputs": [
    {
     "data": {
      "text/plain": [
       "[1, 4, 9, 16, 25, 36, 49, 64, 81, 100]"
      ]
     },
     "execution_count": 5,
     "metadata": {},
     "output_type": "execute_result"
    }
   ],
   "source": [
    "square_list = [i**2 for i in range(1,11)]\n",
    "square_list"
   ]
  },
  {
   "cell_type": "raw",
   "id": "9ddfc693-eb73-47e0-a60b-89c17dbed19e",
   "metadata": {},
   "source": [
    "Find the cube root of numbers from 1 to 10"
   ]
  },
  {
   "cell_type": "code",
   "execution_count": 6,
   "id": "2b2440cc-8a26-4e7e-81f5-979b75ffce2b",
   "metadata": {},
   "outputs": [
    {
     "data": {
      "text/plain": [
       "[1.0,\n",
       " 1.2599210498948732,\n",
       " 1.4422495703074083,\n",
       " 1.5874010519681994,\n",
       " 1.7099759466766968,\n",
       " 1.8171205928321397,\n",
       " 1.912931182772389,\n",
       " 2.0,\n",
       " 2.080083823051904,\n",
       " 2.154434690031884]"
      ]
     },
     "execution_count": 6,
     "metadata": {},
     "output_type": "execute_result"
    }
   ],
   "source": [
    "cube_root_list = [i**(1/3) for i in range(1,11)]\n",
    "cube_root_list"
   ]
  },
  {
   "cell_type": "raw",
   "id": "85cb821b-ddf8-47d5-a00e-08224e459b17",
   "metadata": {},
   "source": [
    "Check if a given number is even"
   ]
  },
  {
   "cell_type": "code",
   "execution_count": 7,
   "id": "ec852193-d5ad-4a91-9fa8-3c76f0b7dd6c",
   "metadata": {},
   "outputs": [
    {
     "name": "stdin",
     "output_type": "stream",
     "text": [
      "enter the number 22\n"
     ]
    },
    {
     "data": {
      "text/plain": [
       "'This number is a even number'"
      ]
     },
     "execution_count": 7,
     "metadata": {},
     "output_type": "execute_result"
    }
   ],
   "source": [
    "num = int(input('enter the number'))\n",
    "\n",
    "checker = lambda x: 'This number is a even number' if x%2 == 0 else 'This number is not a even number'\n",
    "\n",
    "checker(num)"
   ]
  },
  {
   "cell_type": "raw",
   "id": "78c16119-d839-4a12-a6c8-2c4985ec8d15",
   "metadata": {},
   "source": [
    "Filter odd numbers from the given list"
   ]
  },
  {
   "cell_type": "code",
   "execution_count": 8,
   "id": "2217c4a2-8478-473f-a27c-443d993cea15",
   "metadata": {},
   "outputs": [
    {
     "data": {
      "text/plain": [
       "[1, 3, 5, 7, 9]"
      ]
     },
     "execution_count": 8,
     "metadata": {},
     "output_type": "execute_result"
    }
   ],
   "source": [
    "list1 = [1,2,3,4,5,6,7,8,9,10]\n",
    "\n",
    "list(filter(lambda x: x%2 !=0, list1))\n"
   ]
  },
  {
   "cell_type": "raw",
   "id": "2c534f9c-d8ec-4856-bead-4848ab0b5a31",
   "metadata": {},
   "source": [
    "Sort a list of integers into positive and negative integers lists.\n",
    "[1,2,3,4,5,6,-1,-2,-3,-4,-5,0]\n"
   ]
  },
  {
   "cell_type": "code",
   "execution_count": 9,
   "id": "c45629e5-611f-4e13-b61b-d33aeca4744a",
   "metadata": {},
   "outputs": [
    {
     "data": {
      "text/plain": [
       "[-5, -4, -3, -2, -1, 0, 1, 2, 3, 4, 5, 6]"
      ]
     },
     "execution_count": 9,
     "metadata": {},
     "output_type": "execute_result"
    }
   ],
   "source": [
    "lst = [1,2,3,4,5,6,-1,-2,-3,-4,-5,0]\n",
    "\n",
    "rearrange_numbers = lambda arr: [x for x in lst[::-1] if x < 0] +[0]+ [x for x in lst if x >0]\n",
    "new_lst = rearrange_numbers(lst)\n",
    "new_lst"
   ]
  }
 ],
 "metadata": {
  "kernelspec": {
   "display_name": "Python 3 (ipykernel)",
   "language": "python",
   "name": "python3"
  },
  "language_info": {
   "codemirror_mode": {
    "name": "ipython",
    "version": 3
   },
   "file_extension": ".py",
   "mimetype": "text/x-python",
   "name": "python",
   "nbconvert_exporter": "python",
   "pygments_lexer": "ipython3",
   "version": "3.10.8"
  }
 },
 "nbformat": 4,
 "nbformat_minor": 5
}
