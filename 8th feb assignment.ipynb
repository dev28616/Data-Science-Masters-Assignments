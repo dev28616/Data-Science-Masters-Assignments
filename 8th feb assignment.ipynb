{
 "cells": [
  {
   "cell_type": "raw",
   "id": "22d3635b-73a8-4d04-b983-bf2f4f5f767d",
   "metadata": {},
   "source": [
    "1. Abstraction is the process of hiding the internal details of an application from the outer world. Abstraction is used to describe things in\n",
    "simple terms. It’s used to create a boundary between the application and the client programs."
   ]
  },
  {
   "cell_type": "code",
   "execution_count": 1,
   "id": "f38caf2c-acec-4924-96ba-21831c7e6425",
   "metadata": {},
   "outputs": [],
   "source": [
    "import abc\n",
    "\n",
    "class pwskills :\n",
    "    \n",
    "    @abc.abstractmethod\n",
    "    def student_details(self):\n",
    "        pass\n",
    "    \n",
    "    @abc.abstractmethod\n",
    "    def student_assignment(self):\n",
    "        pass\n",
    "    \n",
    "    @abc.abstractmethod\n",
    "    def student_marks(self):\n",
    "        pass\n",
    "    \n",
    "class students_detail(pwskills):\n",
    "    \n",
    "    def student_details(self):\n",
    "        return \"this is for student details\"\n",
    "    \n",
    "    def student_assignment(self):\n",
    "        return \"this is for assignment\"    "
   ]
  },
  {
   "cell_type": "code",
   "execution_count": 2,
   "id": "40b1cade-6199-400d-bb9f-29423018a437",
   "metadata": {},
   "outputs": [
    {
     "data": {
      "text/plain": [
       "'this is for student details'"
      ]
     },
     "execution_count": 2,
     "metadata": {},
     "output_type": "execute_result"
    }
   ],
   "source": [
    "sd = students_detail()\n",
    "sd.student_details()"
   ]
  },
  {
   "cell_type": "code",
   "execution_count": 3,
   "id": "b67e9366-f30c-460f-bd75-ab7e42568376",
   "metadata": {},
   "outputs": [
    {
     "data": {
      "text/plain": [
       "'this is for assignment'"
      ]
     },
     "execution_count": 3,
     "metadata": {},
     "output_type": "execute_result"
    }
   ],
   "source": [
    "sd.student_assignment()"
   ]
  },
  {
   "cell_type": "code",
   "execution_count": 4,
   "id": "970a6338-dd36-4dee-a371-a26531ad069b",
   "metadata": {},
   "outputs": [
    {
     "data": {
      "text/plain": [
       "'this is for data science class'"
      ]
     },
     "execution_count": 4,
     "metadata": {},
     "output_type": "execute_result"
    }
   ],
   "source": [
    "class data_science(pwskills):\n",
    "    \n",
    "    def student_details(self):\n",
    "        return \"this is for data science class\"\n",
    "    \n",
    "ds = data_science()\n",
    "ds.student_details()"
   ]
  },
  {
   "cell_type": "raw",
   "id": "df2c64f8-1a79-4585-a9d9-024b43fcd990",
   "metadata": {},
   "source": [
    "2. Abstraction is a design level process and it is used to reduce the complexity at the designing stage of a project. \n",
    "Encapsulation is an implementation level process, and it is used to provide privacy and maintain control over the transparency of data\n",
    "at the implementation stage of a project."
   ]
  },
  {
   "cell_type": "code",
   "execution_count": 5,
   "id": "832b4747-8ba4-4e8d-b170-ab36ecd6bcad",
   "metadata": {},
   "outputs": [],
   "source": [
    "class bank_balance:\n",
    "    \n",
    "    def __init__(self, balance):\n",
    "        self.__balance = balance\n",
    "        \n",
    "    def deposite(self, amount):\n",
    "        self.__balance = self.__balance + amount\n",
    "        \n",
    "    def withdraw(self, amount):\n",
    "        if self.__balance >= amount:\n",
    "            self.__balance = self.__balance - amount\n",
    "            return True\n",
    "        else:\n",
    "            return False\n",
    "        \n",
    "    def get_balance(self):\n",
    "        return self.__balance"
   ]
  },
  {
   "cell_type": "code",
   "execution_count": 7,
   "id": "1fbc03b8-44b5-4348-9844-5b5b7e286478",
   "metadata": {},
   "outputs": [
    {
     "data": {
      "text/plain": [
       "1000"
      ]
     },
     "execution_count": 7,
     "metadata": {},
     "output_type": "execute_result"
    }
   ],
   "source": [
    "sudh = bank_balance(1000)\n",
    "sudh.get_balance()"
   ]
  },
  {
   "cell_type": "code",
   "execution_count": 8,
   "id": "5f6eea6d-959f-49d4-a03c-c5298a4eb2e2",
   "metadata": {},
   "outputs": [
    {
     "data": {
      "text/plain": [
       "1500"
      ]
     },
     "execution_count": 8,
     "metadata": {},
     "output_type": "execute_result"
    }
   ],
   "source": [
    "sudh.deposite(500)\n",
    "sudh.get_balance()"
   ]
  },
  {
   "cell_type": "code",
   "execution_count": 9,
   "id": "7b7c7289-c0a8-439a-975b-1c86eaae2f14",
   "metadata": {},
   "outputs": [
    {
     "data": {
      "text/plain": [
       "633"
      ]
     },
     "execution_count": 9,
     "metadata": {},
     "output_type": "execute_result"
    }
   ],
   "source": [
    "sudh.withdraw(867)\n",
    "sudh.get_balance()"
   ]
  },
  {
   "cell_type": "raw",
   "id": "3cfd00a6-69a0-4ac4-a536-2d7bad4a7278",
   "metadata": {},
   "source": [
    "3.The 'abc' module in Python library provides the infrastructure for defining custom abstract base classes.\n",
    "'abc' works by marking methods of the base class as abstract."
   ]
  },
  {
   "cell_type": "raw",
   "id": "0985a1aa-93c0-469b-9540-446cb589da52",
   "metadata": {},
   "source": [
    "4. Data Abstraction in Python can be achieved through creating abstract classes and inheriting them later"
   ]
  },
  {
   "cell_type": "raw",
   "id": "3623002b-d559-410a-83e3-c1bc9b0d17ff",
   "metadata": {},
   "source": [
    "5. Abstract classes cannot be instantiated, but they can be subclassed. When an abstract class is subclassed, the subclass \n",
    "usually provides implementations for all of the abstract methods in its parent class. \n",
    "However, if it does not, then the subclass must also be declared abstract ."
   ]
  }
 ],
 "metadata": {
  "kernelspec": {
   "display_name": "Python 3 (ipykernel)",
   "language": "python",
   "name": "python3"
  },
  "language_info": {
   "codemirror_mode": {
    "name": "ipython",
    "version": 3
   },
   "file_extension": ".py",
   "mimetype": "text/x-python",
   "name": "python",
   "nbconvert_exporter": "python",
   "pygments_lexer": "ipython3",
   "version": "3.10.8"
  }
 },
 "nbformat": 4,
 "nbformat_minor": 5
}
