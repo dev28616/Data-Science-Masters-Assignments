{
 "cells": [
  {
   "cell_type": "code",
   "execution_count": null,
   "id": "7ce55829-a4d1-4d30-af40-9e1fdf9b207c",
   "metadata": {},
   "outputs": [],
   "source": [
    "1.\n",
    "API stands for application programming interface—a set of definitions and protocols to build and integrate application software.\n",
    "\n",
    "APIs are used to deliver material by streaming services such as Spotify and Netflix. APIs are used by automakers such as Tesla to provide \n",
    "software upgrades."
   ]
  },
  {
   "cell_type": "code",
   "execution_count": null,
   "id": "adef3762-aa8e-495f-98c6-f5dbcdf766cb",
   "metadata": {},
   "outputs": [],
   "source": [
    "2.\n",
    "Advantage:\n",
    "    Increased Interoperability: API solutions enable different software systems to communicate with each other, regardless of their \n",
    "    \t\t\t\t\t\t\tprogramming language or platform. This enhances the interoperability between systems, allowing for the \n",
    "        \t\t\t\t\t\texchange of data and functionality.\n",
    "            \n",
    "Disadvantage:\n",
    "    Security Concerns: API infrastructures can be vulnerable to security breaches, such as SQL injection attacks and cross-site scripting \n",
    "    \t\t\t\t   (XSS) attacks, making it crucial to implement security measures to protect against these threats."
   ]
  },
  {
   "cell_type": "code",
   "execution_count": null,
   "id": "fb2bca76-cc0c-403a-ad6c-258df4d1842e",
   "metadata": {},
   "outputs": [],
   "source": [
    "3.\n",
    "Web API is an API as the name suggests, it can be accessed over the web using the HTTP protocol. It is a framework that helps you to create \n",
    "and develop HTTP based RESTFUL services.\n",
    "\n",
    "API is an interface that exposes an application's data to outside software, whereas web applications are one type of API with stricter \n",
    "requirements. "
   ]
  },
  {
   "cell_type": "code",
   "execution_count": null,
   "id": "b1dfa998-0044-4d69-8125-a0997efd59a6",
   "metadata": {},
   "outputs": [],
   "source": [
    "4.\n",
    "REpresentational State Transfer is one of the architectures of an API. The REST API is all about a resource (some data stored somehow on the\n",
    "server(s)) and the way how this resource is being transferred to/from the client and what operations are permitted on a resource.\n",
    "\n",
    "SOAP is a lightweight protocol used to create web APIs, usually with Extensible Markup Language (XML). It supports a wide range of \n",
    "communication protocols across the internet, HTTP, Simple Mail Transfer Protocol (SMTP) and Transmission Control Protocol.\n",
    "\n",
    "Shortcomings of SOAP:\n",
    "i) API Calls are not Cached. An API call is a process of sending a request when an API has been set up with the necessary endpoints.\n",
    "ii) Extremely Complicated. SOAP is substantially more sophisticated than REST.\n",
    "iii) No Choice of Data Formats.\n",
    "iv) Requires More Bandwidth."
   ]
  },
  {
   "cell_type": "code",
   "execution_count": null,
   "id": "388e36b0-a345-4de1-b1ea-b07484155260",
   "metadata": {},
   "outputs": [],
   "source": [
    "5.\n",
    "SOAP and REST are two internet data exchange mechanisms. For example, imagine that your internal accounts system shares data with your \n",
    "customer's accounting system to automate invoicing tasks. The two applications share data by using an API that defines communication rules. \n",
    "SOAP and REST are two different approaches to API design. The SOAP approach is highly structured and uses XML data format. REST is more \n",
    "flexible and allows applications to exchange data in multiple formats."
   ]
  }
 ],
 "metadata": {
  "kernelspec": {
   "display_name": "Python 3 (ipykernel)",
   "language": "python",
   "name": "python3"
  },
  "language_info": {
   "codemirror_mode": {
    "name": "ipython",
    "version": 3
   },
   "file_extension": ".py",
   "mimetype": "text/x-python",
   "name": "python",
   "nbconvert_exporter": "python",
   "pygments_lexer": "ipython3",
   "version": "3.10.8"
  }
 },
 "nbformat": 4,
 "nbformat_minor": 5
}
