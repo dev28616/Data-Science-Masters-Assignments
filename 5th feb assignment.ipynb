{
 "cells": [
  {
   "cell_type": "code",
   "execution_count": 1,
   "id": "5dba0e9c-7a55-48c7-b90f-1330978723ac",
   "metadata": {},
   "outputs": [
    {
     "name": "stdout",
     "output_type": "stream",
     "text": [
      "Welcome to pwskills\n"
     ]
    }
   ],
   "source": [
    "1.\n",
    "\"\"\"A class is considered as a blueprint of objects. We can think of the class as a sketch (prototype) of a house. It contains all the details about \n",
    "the floors, doors, windows, etc. Based on these descriptions we build the house. House is the object.\n",
    "An object is called an instance of a class.\"\"\" \n",
    "\n",
    "#creating a class\n",
    "class pwskills :\n",
    "    \n",
    "    def welcome_msg(self):\n",
    "        print(\"Welcome to pwskills\")\n",
    "        \n",
    "#creating an object\n",
    "rohan = pwskills()\n",
    "rohan.welcome_msg()"
   ]
  },
  {
   "cell_type": "code",
   "execution_count": null,
   "id": "92d59b17-6ea7-4a84-a42c-f25afde824ac",
   "metadata": {},
   "outputs": [],
   "source": [
    "2.\n",
    "Four pillars of oops are----\n",
    "i) Abstraction.\n",
    "ii) Encapsulation.\n",
    "iii) Inheritance.\n",
    "iv) Polymorphism."
   ]
  },
  {
   "cell_type": "code",
   "execution_count": 3,
   "id": "efe5067b-5630-427c-b4bf-5100974dc636",
   "metadata": {},
   "outputs": [
    {
     "data": {
      "text/plain": [
       "(8965477896, 'rohan23@gmail.com', 1243)"
      ]
     },
     "execution_count": 3,
     "metadata": {},
     "output_type": "execute_result"
    }
   ],
   "source": [
    "3.\n",
    "\"\"\"The __init__  function is called every time an object is created from a class. The __init__ method lets the class initialize the object’s \n",
    "attributes and serves no other purpose. It is only used within classes.\"\"\" \n",
    "\n",
    "class student_details :\n",
    "    \n",
    "    def __init__(self, phone_number, email_id, student_id):\n",
    "        self.phone_number = phone_number\n",
    "        self.email_id = email_id\n",
    "        self.student_id = student_id\n",
    "        \n",
    "    def return_student_details(self):\n",
    "        return self.phone_number, self.email_id, self.student_id\n",
    "    \n",
    "rohan = student_details(8965477896, \"rohan23@gmail.com\", 1243)\n",
    "rohan.return_student_details()"
   ]
  },
  {
   "cell_type": "code",
   "execution_count": null,
   "id": "3ecf4278-c472-4f00-97c4-5ff7e05b1676",
   "metadata": {},
   "outputs": [],
   "source": [
    "4.\n",
    "The self variable is used to represent the instance of the class which is often used in object-oriented programming. It works as a reference \n",
    "to the object. Python uses the self parameter to refer to instance attributes and methods of the class."
   ]
  },
  {
   "cell_type": "code",
   "execution_count": null,
   "id": "36a7516f-55d0-42b5-a3d5-13480e53a6b5",
   "metadata": {},
   "outputs": [],
   "source": [
    "5.\n",
    "Inheritance allows us to define a class that inherits all the methods and properties from another class. Parent class is \n",
    "the class being inherited from, also called base class. Child class is the class that inherits from another class, also called derived class.\n"
   ]
  },
  {
   "cell_type": "code",
   "execution_count": 5,
   "id": "2b455c81-cea9-4489-a5ed-db3765ed04a4",
   "metadata": {},
   "outputs": [
    {
     "name": "stdout",
     "output_type": "stream",
     "text": [
      "This function is in parent class.\n",
      "This function is in child class.\n"
     ]
    }
   ],
   "source": [
    "\"\"\"Single inheritance\"\"\"\n",
    "\n",
    "# Base class\n",
    "class Parent:\n",
    "    def func1(self):\n",
    "        print(\"This function is in parent class.\")\n",
    " \n",
    "\n",
    " \n",
    "class Child(Parent):\n",
    "    def func2(self):\n",
    "        print(\"This function is in child class.\")\n",
    " \n",
    " \n",
    "# Driver's code\n",
    "object = Child()\n",
    "object.func1()\n",
    "object.func2()"
   ]
  },
  {
   "cell_type": "code",
   "execution_count": 6,
   "id": "5174b289-ffae-49d1-8f6a-419cd8c1b79b",
   "metadata": {},
   "outputs": [
    {
     "name": "stdout",
     "output_type": "stream",
     "text": [
      "Father : RAM\n",
      "Mother : SITA\n"
     ]
    }
   ],
   "source": [
    "\"\"\"multiple inheritance\"\"\"\n",
    "\n",
    "class Mother:\n",
    "\tmothername = \"\"\n",
    "\n",
    "\tdef mother(self):\n",
    "\t\tprint(self.mothername)\n",
    "\n",
    "\n",
    "class Father:\n",
    "\tfathername = \"\"\n",
    "\n",
    "\tdef father(self):\n",
    "\t\tprint(self.fathername)\n",
    "\n",
    "\n",
    "class Son(Mother, Father):\n",
    "\tdef parents(self):\n",
    "\t\tprint(\"Father :\", self.fathername)\n",
    "\t\tprint(\"Mother :\", self.mothername)\n",
    "\n",
    "\n",
    "# Driver's code\n",
    "s1 = Son()\n",
    "s1.fathername = \"RAM\"\n",
    "s1.mothername = \"SITA\"\n",
    "s1.parents()\n"
   ]
  },
  {
   "cell_type": "code",
   "execution_count": 7,
   "id": "40bd4e76-747d-4c77-a953-18d14189b738",
   "metadata": {},
   "outputs": [
    {
     "data": {
      "text/plain": [
       "'this is class5'"
      ]
     },
     "execution_count": 7,
     "metadata": {},
     "output_type": "execute_result"
    }
   ],
   "source": [
    "\"\"\"multilevel inheritance\"\"\"\n",
    "class class4 :\n",
    "    \n",
    "    def test_class4(self):\n",
    "        return \"this is class4\"\n",
    "    \n",
    "class class5 :\n",
    "    \n",
    "    def test_class5(self):\n",
    "        return \"this is class5\"\n",
    "    \n",
    "class class6(class4, class5):\n",
    "    pass\n",
    "\n",
    "obj_class6 = class6()\n",
    "obj_class6.test_class4()\n",
    "obj_class6.test_class5()"
   ]
  },
  {
   "cell_type": "code",
   "execution_count": 8,
   "id": "d1720784-9117-4eda-8aad-12488a99a237",
   "metadata": {},
   "outputs": [
    {
     "name": "stdout",
     "output_type": "stream",
     "text": [
      "This function is in parent class.\n",
      "This function is in child 1.\n",
      "This function is in parent class.\n",
      "This function is in child 2.\n"
     ]
    }
   ],
   "source": [
    "\"\"\"hirarchical inheritance\"\"\"\n",
    "\n",
    "\n",
    "class Parent:\n",
    "\tdef func1(self):\n",
    "\t\tprint(\"This function is in parent class.\")\n",
    "\n",
    "class Child1(Parent):\n",
    "\tdef func2(self):\n",
    "\t\tprint(\"This function is in child 1.\")\n",
    "\n",
    "class Child2(Parent):\n",
    "\tdef func3(self):\n",
    "\t\tprint(\"This function is in child 2.\")\n",
    "\n",
    "object1 = Child1()\n",
    "object2 = Child2()\n",
    "object1.func1()\n",
    "object1.func2()\n",
    "object2.func1()\n",
    "object2.func3()\n"
   ]
  },
  {
   "cell_type": "code",
   "execution_count": 9,
   "id": "03853389-6ea9-434e-abb7-9da4483d2b06",
   "metadata": {},
   "outputs": [
    {
     "name": "stdout",
     "output_type": "stream",
     "text": [
      "This function is in school.\n",
      "This function is in student 1. \n"
     ]
    }
   ],
   "source": [
    "\"\"\"hybrid inheritance\"\"\"\n",
    "\n",
    "class School:\n",
    "\tdef func1(self):\n",
    "\t\tprint(\"This function is in school.\")\n",
    "\n",
    "\n",
    "class Student1(School):\n",
    "\tdef func2(self):\n",
    "\t\tprint(\"This function is in student 1. \")\n",
    "\n",
    "\n",
    "class Student2(School):\n",
    "\tdef func3(self):\n",
    "\t\tprint(\"This function is in student 2.\")\n",
    "\n",
    "\n",
    "class Student3(Student1, School):\n",
    "\tdef func4(self):\n",
    "\t\tprint(\"This function is in student 3.\")\n",
    "\n",
    "\n",
    "\n",
    "object = Student3()\n",
    "object.func1()\n",
    "object.func2()\n"
   ]
  },
  {
   "cell_type": "code",
   "execution_count": null,
   "id": "0479eaf7-3679-42fd-bb67-f298f059a619",
   "metadata": {},
   "outputs": [],
   "source": []
  }
 ],
 "metadata": {
  "kernelspec": {
   "display_name": "Python 3 (ipykernel)",
   "language": "python",
   "name": "python3"
  },
  "language_info": {
   "codemirror_mode": {
    "name": "ipython",
    "version": 3
   },
   "file_extension": ".py",
   "mimetype": "text/x-python",
   "name": "python",
   "nbconvert_exporter": "python",
   "pygments_lexer": "ipython3",
   "version": "3.10.8"
  }
 },
 "nbformat": 4,
 "nbformat_minor": 5
}
