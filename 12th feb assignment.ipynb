{
 "cells": [
  {
   "cell_type": "code",
   "execution_count": null,
   "id": "0a92b11f-f9ff-479d-a28f-4b84fab9af28",
   "metadata": {},
   "outputs": [],
   "source": [
    "1. \n",
    "An exception is an event, which occurs during the execution of a program that disrupts the normal flow of the program's instructions.\n",
    "An error is an issue in a program that prevents the program from completing its task. In comparison, an exception is a condition that \n",
    "interrupts the normal flow of the program. "
   ]
  },
  {
   "cell_type": "code",
   "execution_count": 2,
   "id": "b647a656-17fd-4531-86d3-2114e4df5863",
   "metadata": {},
   "outputs": [
    {
     "ename": "FileNotFoundError",
     "evalue": "[Errno 2] No such file or directory: 'sample.txt'",
     "output_type": "error",
     "traceback": [
      "\u001b[0;31m---------------------------------------------------------------------------\u001b[0m",
      "\u001b[0;31mFileNotFoundError\u001b[0m                         Traceback (most recent call last)",
      "Cell \u001b[0;32mIn[2], line 3\u001b[0m\n\u001b[1;32m      1\u001b[0m \u001b[38;5;241m2.\u001b[39m\n\u001b[1;32m      2\u001b[0m \u001b[38;5;66;03m#If the exception is not handled by an except clause, the exception is re-raised after the finally clause has been executed.\u001b[39;00m\n\u001b[0;32m----> 3\u001b[0m f \u001b[38;5;241m=\u001b[39m \u001b[38;5;28;43mopen\u001b[39;49m\u001b[43m(\u001b[49m\u001b[38;5;124;43m\"\u001b[39;49m\u001b[38;5;124;43msample.txt\u001b[39;49m\u001b[38;5;124;43m\"\u001b[39;49m\u001b[43m,\u001b[49m\u001b[43m \u001b[49m\u001b[38;5;124;43m'\u001b[39;49m\u001b[38;5;124;43mr\u001b[39;49m\u001b[38;5;124;43m'\u001b[39;49m\u001b[43m)\u001b[49m\n\u001b[1;32m      4\u001b[0m f\u001b[38;5;241m.\u001b[39mwrite(\u001b[38;5;124m\"\u001b[39m\u001b[38;5;124mwrite sample code into this file\u001b[39m\u001b[38;5;124m\"\u001b[39m)\n",
      "File \u001b[0;32m/opt/conda/lib/python3.10/site-packages/IPython/core/interactiveshell.py:282\u001b[0m, in \u001b[0;36m_modified_open\u001b[0;34m(file, *args, **kwargs)\u001b[0m\n\u001b[1;32m    275\u001b[0m \u001b[38;5;28;01mif\u001b[39;00m file \u001b[38;5;129;01min\u001b[39;00m {\u001b[38;5;241m0\u001b[39m, \u001b[38;5;241m1\u001b[39m, \u001b[38;5;241m2\u001b[39m}:\n\u001b[1;32m    276\u001b[0m     \u001b[38;5;28;01mraise\u001b[39;00m \u001b[38;5;167;01mValueError\u001b[39;00m(\n\u001b[1;32m    277\u001b[0m         \u001b[38;5;124mf\u001b[39m\u001b[38;5;124m\"\u001b[39m\u001b[38;5;124mIPython won\u001b[39m\u001b[38;5;124m'\u001b[39m\u001b[38;5;124mt let you open fd=\u001b[39m\u001b[38;5;132;01m{\u001b[39;00mfile\u001b[38;5;132;01m}\u001b[39;00m\u001b[38;5;124m by default \u001b[39m\u001b[38;5;124m\"\u001b[39m\n\u001b[1;32m    278\u001b[0m         \u001b[38;5;124m\"\u001b[39m\u001b[38;5;124mas it is likely to crash IPython. If you know what you are doing, \u001b[39m\u001b[38;5;124m\"\u001b[39m\n\u001b[1;32m    279\u001b[0m         \u001b[38;5;124m\"\u001b[39m\u001b[38;5;124myou can use builtins\u001b[39m\u001b[38;5;124m'\u001b[39m\u001b[38;5;124m open.\u001b[39m\u001b[38;5;124m\"\u001b[39m\n\u001b[1;32m    280\u001b[0m     )\n\u001b[0;32m--> 282\u001b[0m \u001b[38;5;28;01mreturn\u001b[39;00m \u001b[43mio_open\u001b[49m\u001b[43m(\u001b[49m\u001b[43mfile\u001b[49m\u001b[43m,\u001b[49m\u001b[43m \u001b[49m\u001b[38;5;241;43m*\u001b[39;49m\u001b[43margs\u001b[49m\u001b[43m,\u001b[49m\u001b[43m \u001b[49m\u001b[38;5;241;43m*\u001b[39;49m\u001b[38;5;241;43m*\u001b[39;49m\u001b[43mkwargs\u001b[49m\u001b[43m)\u001b[49m\n",
      "\u001b[0;31mFileNotFoundError\u001b[0m: [Errno 2] No such file or directory: 'sample.txt'"
     ]
    }
   ],
   "source": [
    "2.\n",
    "#If the exception is not handled by an except clause, the exception is re-raised after the finally clause has been executed.\n",
    "f = open(\"sample.txt\", 'r')\n",
    "f.write(\"write sample code into this file\")"
   ]
  },
  {
   "cell_type": "code",
   "execution_count": 3,
   "id": "97e038cc-b0e3-4bf6-93a7-56ea69ace85c",
   "metadata": {},
   "outputs": [
    {
     "name": "stdout",
     "output_type": "stream",
     "text": [
      "this is the error  [Errno 2] No such file or directory: 'sample.txt'\n"
     ]
    }
   ],
   "source": [
    "3.\n",
    "#The try and except block in Python is used to catch and handle exceptions.\n",
    "try:\n",
    "    f = open(\"sample.txt\", 'r')\n",
    "    f.write(\"write sample code into this file\")\n",
    "    \n",
    "except Exception as e:\n",
    "    print(\"this is the error \",e)"
   ]
  },
  {
   "cell_type": "code",
   "execution_count": 4,
   "id": "6f89e4ea-85c9-4355-9d64-1ee0b0c2700e",
   "metadata": {},
   "outputs": [
    {
     "name": "stdout",
     "output_type": "stream",
     "text": [
      "finally will execute at any situation\n"
     ]
    }
   ],
   "source": [
    "4.\n",
    "try:\n",
    "    f = open(\"sample2.txt\", 'w')\n",
    "    f.write(\"write something\")\n",
    "except Exception as e:\n",
    "    print(\"error is \", e)\n",
    "else:\n",
    "    f.close()\n",
    "finally:\n",
    "    print(\"finally will execute at any situation\")"
   ]
  },
  {
   "cell_type": "code",
   "execution_count": 8,
   "id": "fe8ad297-87c1-4d25-b02f-2881c8be7f1b",
   "metadata": {},
   "outputs": [],
   "source": [
    "5.\n",
    "#In Python, programmer can define custom exceptions by creating a new class that is derived from the built-in Exception class.\n",
    "#Built-in exceptions offer information about Python-related problems and custom exceptions will add information about project-related problems.\n",
    "class fileMissingError(Exception):\n",
    "    \"\"\"File is not present\"\"\"\n",
    "    \n",
    "    "
   ]
  },
  {
   "cell_type": "code",
   "execution_count": 9,
   "id": "394bf2b8-c888-467e-a17a-9c58c54299e0",
   "metadata": {},
   "outputs": [
    {
     "name": "stdout",
     "output_type": "stream",
     "text": [
      "A New Exception occurred:  6\n"
     ]
    }
   ],
   "source": [
    "6.\n",
    "class MyError(Exception):\n",
    " \n",
    "    # Constructor or Initializer\n",
    "    def __init__(self, value):\n",
    "        self.value = value \n",
    "try:\n",
    "    raise(MyError(3*2))\n",
    "except MyError as error:\n",
    "    print('A New Exception occurred: ', error.value)"
   ]
  },
  {
   "cell_type": "code",
   "execution_count": null,
   "id": "90866db2-3387-49ca-a30e-1c6cc1be72ee",
   "metadata": {},
   "outputs": [],
   "source": []
  }
 ],
 "metadata": {
  "kernelspec": {
   "display_name": "Python 3 (ipykernel)",
   "language": "python",
   "name": "python3"
  },
  "language_info": {
   "codemirror_mode": {
    "name": "ipython",
    "version": 3
   },
   "file_extension": ".py",
   "mimetype": "text/x-python",
   "name": "python",
   "nbconvert_exporter": "python",
   "pygments_lexer": "ipython3",
   "version": "3.10.8"
  }
 },
 "nbformat": 4,
 "nbformat_minor": 5
}
