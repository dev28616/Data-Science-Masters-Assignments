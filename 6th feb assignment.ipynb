{
 "cells": [
  {
   "cell_type": "code",
   "execution_count": 1,
   "id": "cabbed23-3cd5-4cf7-86dd-186ea295e72b",
   "metadata": {},
   "outputs": [
    {
     "name": "stdout",
     "output_type": "stream",
     "text": [
      "[1, 2, 3, 4, 44, 55, 66, 34, 56, 78, 89, 34, 1, 2, 3, 1, 34, 55, 67, 78, 89, 45, 22, 61, 34, 56]\n",
      "product:  1033677959746771369708460310528000\n"
     ]
    }
   ],
   "source": [
    "1.\n",
    "\n",
    "from functools import reduce\n",
    "\n",
    "list1 = [1,2,3,4, [44,55,66, True], False, (34,56,78,89,34), {1,2,3,3,2,1}, {1:34, \"key2\": [55, 67, 78, 89], 4: (45,\n",
    "22, 61, 34)}, [56, 'data science'], 'Machine Learning']\n",
    "\n",
    "result = []\n",
    "def product_list(lst):\n",
    "    for i in lst:\n",
    "        if type(i)==int:\n",
    "            result.append(i)\n",
    "        elif type(i)==list or type(i)==tuple:\n",
    "            for j in i:\n",
    "                if type(j)==int:\n",
    "                    result.append(j)\n",
    "        elif type(i)==set:\n",
    " \n",
    "            for k in i:\n",
    "                if type(k)==int:\n",
    "                    result.append(k)\n",
    "        elif type(i)==dict:\n",
    "            for key,val in i.items():\n",
    "                if  type(val)==list or type(val)==tuple:\n",
    "                    for k in val:\n",
    "                        if type(k)==int:\n",
    "                            result.append(k)   \n",
    "                elif type(key)==int or type(val)==int:\n",
    "                    result.append(key)\n",
    "                    result.append(val)            \n",
    "    print(result)\n",
    "\n",
    "    product= reduce(lambda x,y: x*y, result)\n",
    "    print(\"product: \",product)\n",
    "\n",
    "product_list(list1)"
   ]
  },
  {
   "cell_type": "code",
   "execution_count": 33,
   "id": "1ec4a5c8-53d7-451a-9cf5-4f1eab2a4917",
   "metadata": {},
   "outputs": [
    {
     "name": "stdout",
     "output_type": "stream",
     "text": [
      "i$wznt$to$yexome$z$dztz$sxientist.\n"
     ]
    }
   ],
   "source": [
    "2.\n",
    "\n",
    "input = 'I want to become a Data Scientist.'.lower()\n",
    "output = ''\n",
    "\n",
    "for i in input:\n",
    "    if i == 'a':\n",
    "        i = 'z'\n",
    "    elif i == 'b':\n",
    "        i = 'y'\n",
    "    elif i == 'c':\n",
    "        i = 'x'\n",
    "    elif i.isspace() == True:\n",
    "        i = '$'\n",
    "    output += i\n",
    "print(output)    "
   ]
  }
 ],
 "metadata": {
  "kernelspec": {
   "display_name": "Python 3 (ipykernel)",
   "language": "python",
   "name": "python3"
  },
  "language_info": {
   "codemirror_mode": {
    "name": "ipython",
    "version": 3
   },
   "file_extension": ".py",
   "mimetype": "text/x-python",
   "name": "python",
   "nbconvert_exporter": "python",
   "pygments_lexer": "ipython3",
   "version": "3.10.8"
  }
 },
 "nbformat": 4,
 "nbformat_minor": 5
}
