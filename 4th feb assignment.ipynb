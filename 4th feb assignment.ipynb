{
 "cells": [
  {
   "cell_type": "code",
   "execution_count": 1,
   "id": "69ed35d7-5cd5-41a6-ad95-5e3c9d013eab",
   "metadata": {},
   "outputs": [
    {
     "name": "stdout",
     "output_type": "stream",
     "text": [
      "[('Virat Kohli', 24936), ('Jack Kallis', 25534), ('Ricky ponting', 27483), ('Sachin Tendulkar', 34357)]\n"
     ]
    }
   ],
   "source": [
    "1.\n",
    "lst1 = [(\"Sachin Tendulkar\", 34357),(\"Ricky ponting\", 27483),(\"Jack Kallis\", 25534),(\"Virat Kohli\", 24936)]\n",
    "lst1.sort(key = lambda x: x[1])\n",
    "print(lst1)"
   ]
  },
  {
   "cell_type": "code",
   "execution_count": 2,
   "id": "202838a6-57ee-4d1e-996a-e03ad2c6451d",
   "metadata": {},
   "outputs": [
    {
     "data": {
      "text/plain": [
       "[1, 4, 9, 16, 25, 36, 49, 64, 81, 100]"
      ]
     },
     "execution_count": 2,
     "metadata": {},
     "output_type": "execute_result"
    }
   ],
   "source": [
    "2.\n",
    "lst = [1,2,3,4,5,6,7,8,9,10]\n",
    "list(map(lambda i: i**2, lst))"
   ]
  },
  {
   "cell_type": "code",
   "execution_count": 3,
   "id": "c4a7c156-4791-46fa-845b-dd59101dae2b",
   "metadata": {},
   "outputs": [
    {
     "data": {
      "text/plain": [
       "('1', '2', '3', '4', '5', '6', '7', '8', '9', '10')"
      ]
     },
     "execution_count": 3,
     "metadata": {},
     "output_type": "execute_result"
    }
   ],
   "source": [
    "3.\n",
    "l1 = [1,2,3,4,5,6,7,8,9,10]\n",
    "tuple(map(lambda x: str(x), l1))"
   ]
  },
  {
   "cell_type": "code",
   "execution_count": 4,
   "id": "eca4f392-14b1-4555-85d4-6c3ecf7c9cb9",
   "metadata": {},
   "outputs": [
    {
     "data": {
      "text/plain": [
       "15511210043330985984000000"
      ]
     },
     "execution_count": 4,
     "metadata": {},
     "output_type": "execute_result"
    }
   ],
   "source": [
    "4.\n",
    "from functools import reduce\n",
    "\n",
    "l2 = [i for i in range(1,26)]\n",
    "\n",
    "reduce(lambda x,y: x*y, l2)"
   ]
  },
  {
   "cell_type": "code",
   "execution_count": 5,
   "id": "ef94c47e-767e-4e2f-a3b4-98059a5120ee",
   "metadata": {},
   "outputs": [
    {
     "data": {
      "text/plain": [
       "[2, 3, 6, 9, 27, 60, 90, 120, 46]"
      ]
     },
     "execution_count": 5,
     "metadata": {},
     "output_type": "execute_result"
    }
   ],
   "source": [
    "5.\n",
    "l3 = [2,3,6,9,27,60,90,120,55,46]\n",
    "list(filter(lambda x: x%2 == 0 or x%3 == 0, l3))"
   ]
  },
  {
   "cell_type": "code",
   "execution_count": 6,
   "id": "179d1761-0967-4643-8777-171068ddab92",
   "metadata": {},
   "outputs": [
    {
     "data": {
      "text/plain": [
       "['php', 'aba', 'radar', 'level']"
      ]
     },
     "execution_count": 6,
     "metadata": {},
     "output_type": "execute_result"
    }
   ],
   "source": [
    "6.\n",
    "l4 = [\"python\",\"php\",\"aba\",\"radar\",\"level\"]\n",
    "list(filter(lambda x: x==x[::-1],l4))"
   ]
  },
  {
   "cell_type": "code",
   "execution_count": null,
   "id": "6ca366a2-61ee-46ee-ba29-c43c210d16d6",
   "metadata": {},
   "outputs": [],
   "source": []
  }
 ],
 "metadata": {
  "kernelspec": {
   "display_name": "Python 3 (ipykernel)",
   "language": "python",
   "name": "python3"
  },
  "language_info": {
   "codemirror_mode": {
    "name": "ipython",
    "version": 3
   },
   "file_extension": ".py",
   "mimetype": "text/x-python",
   "name": "python",
   "nbconvert_exporter": "python",
   "pygments_lexer": "ipython3",
   "version": "3.10.8"
  }
 },
 "nbformat": 4,
 "nbformat_minor": 5
}
